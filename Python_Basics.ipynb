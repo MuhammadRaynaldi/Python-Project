{
  "nbformat": 4,
  "nbformat_minor": 0,
  "metadata": {
    "colab": {
      "provenance": [],
      "authorship_tag": "ABX9TyNb7rRkcjGUqFQnl7+k6cTW",
      "include_colab_link": true
    },
    "kernelspec": {
      "name": "python3",
      "display_name": "Python 3"
    },
    "language_info": {
      "name": "python"
    }
  },
  "cells": [
    {
      "cell_type": "markdown",
      "metadata": {
        "id": "view-in-github",
        "colab_type": "text"
      },
      "source": [
        "<a href=\"https://colab.research.google.com/github/MuhammadRaynaldi/Python-Project/blob/main/Python_Basics.ipynb\" target=\"_parent\"><img src=\"https://colab.research.google.com/assets/colab-badge.svg\" alt=\"Open In Colab\"/></a>"
      ]
    },
    {
      "cell_type": "code",
      "execution_count": 1,
      "metadata": {
        "colab": {
          "base_uri": "https://localhost:8080/"
        },
        "id": "WaLaDnU3NtXt",
        "outputId": "267e47e1-6e5a-4fa2-fc99-c985d1433e9b"
      },
      "outputs": [
        {
          "output_type": "stream",
          "name": "stdout",
          "text": [
            "Hello\n"
          ]
        }
      ],
      "source": [
        "print('Hello')"
      ]
    },
    {
      "cell_type": "markdown",
      "source": [
        "**Variables**"
      ],
      "metadata": {
        "id": "Vg2GshdAN23T"
      }
    },
    {
      "cell_type": "code",
      "source": [
        "Height = 180\n",
        "print(Height)"
      ],
      "metadata": {
        "colab": {
          "base_uri": "https://localhost:8080/"
        },
        "id": "U4u5NEgrN2DE",
        "outputId": "c7ac3b1b-f21c-4b98-8ec5-2a81b0d00b44"
      },
      "execution_count": 2,
      "outputs": [
        {
          "output_type": "stream",
          "name": "stdout",
          "text": [
            "180\n"
          ]
        }
      ]
    },
    {
      "cell_type": "code",
      "source": [
        "Name = 'john' #str\n",
        "print(Name)"
      ],
      "metadata": {
        "colab": {
          "base_uri": "https://localhost:8080/"
        },
        "id": "yZ4gd8zHOA8J",
        "outputId": "d075f9c1-ad36-4251-9994-7aca6097521f"
      },
      "execution_count": 3,
      "outputs": [
        {
          "output_type": "stream",
          "name": "stdout",
          "text": [
            "john\n"
          ]
        }
      ]
    },
    {
      "cell_type": "markdown",
      "source": [
        "**Boolean variable**"
      ],
      "metadata": {
        "id": "Tl5Z0dZiOcpF"
      }
    },
    {
      "cell_type": "code",
      "source": [
        "Is_it_correct = False #boolean"
      ],
      "metadata": {
        "id": "-91HNYc6OMSZ"
      },
      "execution_count": 5,
      "outputs": []
    },
    {
      "cell_type": "markdown",
      "source": [
        "**Methods**"
      ],
      "metadata": {
        "id": "64KKyKsfOrae"
      }
    },
    {
      "cell_type": "code",
      "source": [
        "City_name = 'New York City'\n",
        " #counting  01234567 (position)\n",
        "City_name.upper()"
      ],
      "metadata": {
        "colab": {
          "base_uri": "https://localhost:8080/",
          "height": 36
        },
        "id": "DjdIQ0lbOutk",
        "outputId": "8036791f-db47-48af-e344-a2a50633d9a0"
      },
      "execution_count": 6,
      "outputs": [
        {
          "output_type": "execute_result",
          "data": {
            "text/plain": [
              "'NEW YORK CITY'"
            ],
            "application/vnd.google.colaboratory.intrinsic+json": {
              "type": "string"
            }
          },
          "metadata": {},
          "execution_count": 6
        }
      ]
    },
    {
      "cell_type": "code",
      "source": [
        "City_name.find('w')"
      ],
      "metadata": {
        "colab": {
          "base_uri": "https://localhost:8080/"
        },
        "id": "tQ4CzzF8PECB",
        "outputId": "cd84a36c-f4b5-46ec-fc19-12e1b44bc69c"
      },
      "execution_count": 7,
      "outputs": [
        {
          "output_type": "execute_result",
          "data": {
            "text/plain": [
              "2"
            ]
          },
          "metadata": {},
          "execution_count": 7
        }
      ]
    },
    {
      "cell_type": "code",
      "source": [
        "City_name.replace('City','C')"
      ],
      "metadata": {
        "colab": {
          "base_uri": "https://localhost:8080/",
          "height": 36
        },
        "id": "AV44deNxPjox",
        "outputId": "3ee0b260-ad27-4f1e-ed84-25901eaf622b"
      },
      "execution_count": 8,
      "outputs": [
        {
          "output_type": "execute_result",
          "data": {
            "text/plain": [
              "'New York C'"
            ],
            "application/vnd.google.colaboratory.intrinsic+json": {
              "type": "string"
            }
          },
          "metadata": {},
          "execution_count": 8
        }
      ]
    },
    {
      "cell_type": "markdown",
      "source": [
        "**Math operators**"
      ],
      "metadata": {
        "id": "V2_LB8VjPzOo"
      }
    },
    {
      "cell_type": "code",
      "source": [
        "9//5 #// for remove decimal number # +,-,* ,**(power), % (reminder of devision)\n",
        "\n",
        "5**3"
      ],
      "metadata": {
        "colab": {
          "base_uri": "https://localhost:8080/"
        },
        "id": "1yyg35zTP10j",
        "outputId": "55cf60e3-2104-44ed-f1f2-3ee5bdf817db"
      },
      "execution_count": 14,
      "outputs": [
        {
          "output_type": "execute_result",
          "data": {
            "text/plain": [
              "125"
            ]
          },
          "metadata": {},
          "execution_count": 14
        }
      ]
    },
    {
      "cell_type": "code",
      "source": [
        "7%5 #reminder"
      ],
      "metadata": {
        "colab": {
          "base_uri": "https://localhost:8080/"
        },
        "id": "fHiiufpaQMW1",
        "outputId": "ae79963b-c8c9-4f4d-9db6-33614ef7681e"
      },
      "execution_count": 15,
      "outputs": [
        {
          "output_type": "execute_result",
          "data": {
            "text/plain": [
              "2"
            ]
          },
          "metadata": {},
          "execution_count": 15
        }
      ]
    },
    {
      "cell_type": "markdown",
      "source": [
        "**Assigment Operators**"
      ],
      "metadata": {
        "id": "YoI8E2r6Qkcr"
      }
    },
    {
      "cell_type": "code",
      "source": [
        "A = 25\n",
        "B = 3\n",
        "D = 'x' #str quotation for text\n",
        "# A = A + 10 (simple)\n",
        "# print(A)\n",
        "\n",
        "A *=10 #avoid long method\n",
        "print(A)\n"
      ],
      "metadata": {
        "colab": {
          "base_uri": "https://localhost:8080/"
        },
        "id": "F2MIjK8PQj9O",
        "outputId": "e4449762-7d06-45b3-a169-4b394f2ba4a6"
      },
      "execution_count": 20,
      "outputs": [
        {
          "output_type": "stream",
          "name": "stdout",
          "text": [
            "250\n"
          ]
        }
      ]
    },
    {
      "cell_type": "markdown",
      "source": [
        "**Comparasion Operators**"
      ],
      "metadata": {
        "id": "6XfnIu2bRY3J"
      }
    },
    {
      "cell_type": "code",
      "source": [
        "A = 10!=4 # <, >, <=, >=, ==, != (non equality)\n",
        "print(A)"
      ],
      "metadata": {
        "colab": {
          "base_uri": "https://localhost:8080/"
        },
        "id": "NnryLuckRcHo",
        "outputId": "85dc11db-1ca6-473b-b8e6-8e53d88b8735"
      },
      "execution_count": 23,
      "outputs": [
        {
          "output_type": "stream",
          "name": "stdout",
          "text": [
            "True\n"
          ]
        }
      ]
    },
    {
      "cell_type": "markdown",
      "source": [
        "**Logical Operators**"
      ],
      "metadata": {
        "id": "MQ2y3grJR_h4"
      }
    },
    {
      "cell_type": "code",
      "source": [
        "# \"and\", \"or\", \"not\"\n",
        "\n",
        "A = 20\n",
        "print(A > 30 and A<40)"
      ],
      "metadata": {
        "colab": {
          "base_uri": "https://localhost:8080/"
        },
        "id": "e5Zq-10FSC7G",
        "outputId": "72a8148a-6909-4806-d8f4-ebb505da1fca"
      },
      "execution_count": 24,
      "outputs": [
        {
          "output_type": "stream",
          "name": "stdout",
          "text": [
            "False 40\n"
          ]
        }
      ]
    },
    {
      "cell_type": "code",
      "source": [
        "A = 20\n",
        "print(A > 30 or A<40) # at least, 1 of them is true, the result is true"
      ],
      "metadata": {
        "colab": {
          "base_uri": "https://localhost:8080/"
        },
        "id": "UPqmkiSwSrfp",
        "outputId": "8c158fb1-5dfb-41ab-f22a-12e8b1fbc184"
      },
      "execution_count": 26,
      "outputs": [
        {
          "output_type": "stream",
          "name": "stdout",
          "text": [
            "True\n"
          ]
        }
      ]
    },
    {
      "cell_type": "code",
      "source": [
        "print(not A>30) #reverse or opposite result"
      ],
      "metadata": {
        "colab": {
          "base_uri": "https://localhost:8080/"
        },
        "id": "_kKlBSJ1S9Hp",
        "outputId": "282170ea-4881-4f9a-bd47-78758dc4f92d"
      },
      "execution_count": 28,
      "outputs": [
        {
          "output_type": "stream",
          "name": "stdout",
          "text": [
            "True\n"
          ]
        }
      ]
    },
    {
      "cell_type": "markdown",
      "source": [
        "**Conditional Statement (if, elif, else)**"
      ],
      "metadata": {
        "id": "DZulrSRATVFA"
      }
    },
    {
      "cell_type": "code",
      "source": [
        "Age = 50\n",
        "\n",
        "if Age>18:\n",
        "   print('You are in the defined age limit')   #indentention\n",
        "elif Age< 18 and Age>=16:\n",
        "  print('You are near to age limit')\n",
        "else:\n",
        "  print('You are not in the age limit')\n"
      ],
      "metadata": {
        "colab": {
          "base_uri": "https://localhost:8080/"
        },
        "id": "C0mFI5iCTUv9",
        "outputId": "495a7052-f229-4d53-cbd8-d9515454e0e0"
      },
      "execution_count": 34,
      "outputs": [
        {
          "output_type": "stream",
          "name": "stdout",
          "text": [
            "You are in the defined age limit\n"
          ]
        }
      ]
    },
    {
      "cell_type": "markdown",
      "source": [
        "**Loop or Looping *For and While**"
      ],
      "metadata": {
        "id": "uQUcnvtBVhWm"
      }
    },
    {
      "cell_type": "code",
      "source": [
        "i = 2\n",
        "\n",
        "while i<10:\n",
        "  print(i) #infinite time iteration\n",
        "  i += 1 #or i = i+1 #condition to stop"
      ],
      "metadata": {
        "id": "w3JOQbrtVk83"
      },
      "execution_count": null,
      "outputs": []
    },
    {
      "cell_type": "markdown",
      "source": [
        "**List**"
      ],
      "metadata": {
        "id": "WNeQk5klW84n"
      }
    },
    {
      "cell_type": "code",
      "source": [
        "A = [1,2,3,4]\n"
      ],
      "metadata": {
        "id": "dK_hk6jrW-om"
      },
      "execution_count": null,
      "outputs": []
    },
    {
      "cell_type": "code",
      "source": [
        "City_name = ['New york', 'Montreal','London', 'Paris'] #ther is elemen inside bracket\n",
        "print(City_name[-1]) # call elemen,\n",
        "#it can from front (started from 0 (New york),1,2), it can be from last element to first element (started from -1 (Paris), -2, -3)\n",
        "print(City_name)"
      ],
      "metadata": {
        "colab": {
          "base_uri": "https://localhost:8080/"
        },
        "id": "xB19hvwGXPuI",
        "outputId": "1db46ba7-1c2d-411a-bafe-4ca3f57fe0da"
      },
      "execution_count": 48,
      "outputs": [
        {
          "output_type": "stream",
          "name": "stdout",
          "text": [
            "Paris\n",
            "['New york', 'Montreal', 'London', 'Paris']\n"
          ]
        }
      ]
    },
    {
      "cell_type": "code",
      "source": [
        "# Replace Montreal with Milan\n",
        "City_name[1] = 'Milan'\n",
        "print(City_name)"
      ],
      "metadata": {
        "colab": {
          "base_uri": "https://localhost:8080/"
        },
        "id": "D9ajpx7AYf4u",
        "outputId": "2ca40fc9-83ac-48e9-d443-8ccf3d5854a4"
      },
      "execution_count": 50,
      "outputs": [
        {
          "output_type": "stream",
          "name": "stdout",
          "text": [
            "['New york', 'Milan', 'London', 'Paris']\n"
          ]
        }
      ]
    },
    {
      "cell_type": "code",
      "source": [
        "#Create new list\n",
        "New_list = City_name[0:3] # Python doesn't consider second element\n",
        "print(New_list)"
      ],
      "metadata": {
        "colab": {
          "base_uri": "https://localhost:8080/"
        },
        "id": "04JEvCIuY7Wf",
        "outputId": "beaecb5b-aab7-4f65-c02a-3cf0f04a0b30"
      },
      "execution_count": 53,
      "outputs": [
        {
          "output_type": "stream",
          "name": "stdout",
          "text": [
            "['New york', 'Milan', 'London']\n"
          ]
        }
      ]
    },
    {
      "cell_type": "code",
      "source": [
        "#Insert\n",
        "Age = [16,20,34,45,50]\n",
        "Age.insert(2,67) # 2 is position for new element 67\n",
        "print(Age)\n"
      ],
      "metadata": {
        "colab": {
          "base_uri": "https://localhost:8080/"
        },
        "id": "03Mbkg13ZnMB",
        "outputId": "494a6636-b5b9-4635-dcc7-941856ebad53"
      },
      "execution_count": 54,
      "outputs": [
        {
          "output_type": "stream",
          "name": "stdout",
          "text": [
            "[16, 20, 67, 34, 45, 50]\n"
          ]
        }
      ]
    },
    {
      "cell_type": "code",
      "source": [
        "#Remove\n",
        "Age.remove(67)\n",
        "print(Age)\n"
      ],
      "metadata": {
        "colab": {
          "base_uri": "https://localhost:8080/"
        },
        "id": "TXxvzxFZaTtZ",
        "outputId": "c462c31b-4101-4925-cb4b-f7a30baed5d1"
      },
      "execution_count": 56,
      "outputs": [
        {
          "output_type": "stream",
          "name": "stdout",
          "text": [
            "[16, 34, 45, 50]\n"
          ]
        }
      ]
    },
    {
      "cell_type": "code",
      "source": [
        "#len how many element in list\n",
        "len(Age)"
      ],
      "metadata": {
        "colab": {
          "base_uri": "https://localhost:8080/"
        },
        "id": "AvMTQTLAap7V",
        "outputId": "8bc4a209-9733-427f-ffd5-504a53f343ab"
      },
      "execution_count": 57,
      "outputs": [
        {
          "output_type": "execute_result",
          "data": {
            "text/plain": [
              "4"
            ]
          },
          "metadata": {},
          "execution_count": 57
        }
      ]
    },
    {
      "cell_type": "markdown",
      "source": [
        "**Dictionary**"
      ],
      "metadata": {
        "id": "QDIvgJv8a-eU"
      }
    },
    {
      "cell_type": "code",
      "source": [
        "City_Temp = {'New york':25, 'Montreal':15, 'London':20}\n",
        "#Each element consist of Key (New york, Montreal, London and the value (25,15,20) that is assigned to to each key\n",
        "City_Temp['Montreal'] # both of keys and values couls be string #\n"
      ],
      "metadata": {
        "colab": {
          "base_uri": "https://localhost:8080/"
        },
        "id": "c8gNekRha8yj",
        "outputId": "8e3944c6-5c35-412f-eb22-593ba2bea144"
      },
      "execution_count": 80,
      "outputs": [
        {
          "output_type": "execute_result",
          "data": {
            "text/plain": [
              "15"
            ]
          },
          "metadata": {},
          "execution_count": 80
        }
      ]
    },
    {
      "cell_type": "code",
      "source": [
        "City_Temp['London'] = 'Cool'\n",
        "print(City_Temp)"
      ],
      "metadata": {
        "colab": {
          "base_uri": "https://localhost:8080/"
        },
        "id": "tWpt64vmcThV",
        "outputId": "b4c916cd-9a26-4b04-b337-daf0b0932db4"
      },
      "execution_count": 81,
      "outputs": [
        {
          "output_type": "stream",
          "name": "stdout",
          "text": [
            "{'New york': 25, 'Montreal': 15, 'London': 'Cool'}\n"
          ]
        }
      ]
    },
    {
      "cell_type": "code",
      "source": [
        "City_Temp.values() #to check elements or value in dictionary"
      ],
      "metadata": {
        "colab": {
          "base_uri": "https://localhost:8080/"
        },
        "id": "dcHs7PGpc0Et",
        "outputId": "491fc9c5-1c4d-4ab7-9795-56bf4ef6c3ec"
      },
      "execution_count": 82,
      "outputs": [
        {
          "output_type": "execute_result",
          "data": {
            "text/plain": [
              "dict_values([25, 15, 'Cool'])"
            ]
          },
          "metadata": {},
          "execution_count": 82
        }
      ]
    },
    {
      "cell_type": "code",
      "source": [
        "#delete any items\n",
        "\n",
        "del City_Temp['Montreal']\n",
        "\n",
        "print(City_Temp)"
      ],
      "metadata": {
        "colab": {
          "base_uri": "https://localhost:8080/"
        },
        "id": "-E52_L_8dFAO",
        "outputId": "a2f31055-7eed-4b44-9f8a-02de40a25c5f"
      },
      "execution_count": 83,
      "outputs": [
        {
          "output_type": "stream",
          "name": "stdout",
          "text": [
            "{'New york': 25, 'London': 'Cool'}\n"
          ]
        }
      ]
    },
    {
      "cell_type": "markdown",
      "source": [
        "**Tuple**"
      ],
      "metadata": {
        "id": "1xQTj6kAeznY"
      }
    },
    {
      "cell_type": "code",
      "source": [
        "City_name = ('New york', 'Montreal','London', 'Paris')\n",
        "#the different in Tuple is the use of () parantheses instead of [] bracket in List\n",
        "# tuple is immutable, cannot be changed like list\n",
        "City_name[1] = 'Milan'\n",
        "print(City_name)"
      ],
      "metadata": {
        "colab": {
          "base_uri": "https://localhost:8080/",
          "height": 199
        },
        "id": "cQ5E-3I3e1SM",
        "outputId": "b8692332-84b1-4e4e-b138-c239b4385c0d"
      },
      "execution_count": 85,
      "outputs": [
        {
          "output_type": "error",
          "ename": "TypeError",
          "evalue": "'tuple' object does not support item assignment",
          "traceback": [
            "\u001b[0;31m---------------------------------------------------------------------------\u001b[0m",
            "\u001b[0;31mTypeError\u001b[0m                                 Traceback (most recent call last)",
            "\u001b[0;32m<ipython-input-85-96ca65402e1e>\u001b[0m in \u001b[0;36m<cell line: 3>\u001b[0;34m()\u001b[0m\n\u001b[1;32m      1\u001b[0m \u001b[0mCity_name\u001b[0m \u001b[0;34m=\u001b[0m \u001b[0;34m(\u001b[0m\u001b[0;34m'New york'\u001b[0m\u001b[0;34m,\u001b[0m \u001b[0;34m'Montreal'\u001b[0m\u001b[0;34m,\u001b[0m\u001b[0;34m'London'\u001b[0m\u001b[0;34m,\u001b[0m \u001b[0;34m'Paris'\u001b[0m\u001b[0;34m)\u001b[0m\u001b[0;34m\u001b[0m\u001b[0;34m\u001b[0m\u001b[0m\n\u001b[1;32m      2\u001b[0m \u001b[0;31m#the different in Tuple is the use of () parantheses instead of [] bracket in List\u001b[0m\u001b[0;34m\u001b[0m\u001b[0;34m\u001b[0m\u001b[0m\n\u001b[0;32m----> 3\u001b[0;31m \u001b[0mCity_name\u001b[0m\u001b[0;34m[\u001b[0m\u001b[0;36m1\u001b[0m\u001b[0;34m]\u001b[0m \u001b[0;34m=\u001b[0m \u001b[0;34m'Milan'\u001b[0m\u001b[0;34m\u001b[0m\u001b[0;34m\u001b[0m\u001b[0m\n\u001b[0m\u001b[1;32m      4\u001b[0m \u001b[0mprint\u001b[0m\u001b[0;34m(\u001b[0m\u001b[0mCity_name\u001b[0m\u001b[0;34m)\u001b[0m\u001b[0;34m\u001b[0m\u001b[0;34m\u001b[0m\u001b[0m\n",
            "\u001b[0;31mTypeError\u001b[0m: 'tuple' object does not support item assignment"
          ]
        }
      ]
    },
    {
      "cell_type": "markdown",
      "source": [
        "**For Loop**"
      ],
      "metadata": {
        "id": "lWpIqkGQgkba"
      }
    },
    {
      "cell_type": "code",
      "source": [
        "City_name = ['New york', 'Montreal','London', 'Paris']\n",
        "\n",
        "for x in City_name:\n",
        "  print(x)\n",
        "  if x == 'London':\n",
        "    break\n"
      ],
      "metadata": {
        "colab": {
          "base_uri": "https://localhost:8080/"
        },
        "id": "73y1wrwWgnRO",
        "outputId": "43afe14c-1e93-489d-9710-e8df7fc27159"
      },
      "execution_count": 87,
      "outputs": [
        {
          "output_type": "stream",
          "name": "stdout",
          "text": [
            "New york\n",
            "Montreal\n",
            "London\n"
          ]
        }
      ]
    },
    {
      "cell_type": "markdown",
      "source": [
        "**Range Function**"
      ],
      "metadata": {
        "id": "vKq5OBVOhiL7"
      }
    },
    {
      "cell_type": "code",
      "source": [
        "A = range(10)\n",
        "print(A)"
      ],
      "metadata": {
        "colab": {
          "base_uri": "https://localhost:8080/"
        },
        "id": "fXbV5-gBhm7r",
        "outputId": "8012a495-58c3-4ac0-b6fe-a5fa07da0873"
      },
      "execution_count": 88,
      "outputs": [
        {
          "output_type": "stream",
          "name": "stdout",
          "text": [
            "range(0, 10)\n"
          ]
        }
      ]
    },
    {
      "cell_type": "code",
      "source": [
        "for i in range(10,20,2): #to see the range which is created (0, 10)\n",
        "#from 10 to 20 with 2 steps is pattern\n",
        "  print(i)"
      ],
      "metadata": {
        "colab": {
          "base_uri": "https://localhost:8080/"
        },
        "id": "LpXvv8EkhvUi",
        "outputId": "df68d0d6-1b53-4964-9500-f97aba88e595"
      },
      "execution_count": 91,
      "outputs": [
        {
          "output_type": "stream",
          "name": "stdout",
          "text": [
            "10\n",
            "12\n",
            "14\n",
            "16\n",
            "18\n"
          ]
        }
      ]
    },
    {
      "cell_type": "markdown",
      "source": [],
      "metadata": {
        "id": "coQ-4UALb0ho"
      }
    }
  ]
}