{
  "nbformat": 4,
  "nbformat_minor": 0,
  "metadata": {
    "colab": {
      "provenance": [],
      "authorship_tag": "ABX9TyOgyinEz2VZOOpiOxoGtyux",
      "include_colab_link": true
    },
    "kernelspec": {
      "name": "python3",
      "display_name": "Python 3"
    },
    "language_info": {
      "name": "python"
    }
  },
  "cells": [
    {
      "cell_type": "markdown",
      "metadata": {
        "id": "view-in-github",
        "colab_type": "text"
      },
      "source": [
        "<a href=\"https://colab.research.google.com/github/MuhammadRaynaldi/Python-Project/blob/main/Wind_Farm_Model.ipynb\" target=\"_parent\"><img src=\"https://colab.research.google.com/assets/colab-badge.svg\" alt=\"Open In Colab\"/></a>"
      ]
    },
    {
      "cell_type": "code",
      "execution_count": null,
      "metadata": {
        "id": "l64jqc1916LZ"
      },
      "outputs": [],
      "source": [
        "!pip install windpowerlib"
      ]
    },
    {
      "cell_type": "code",
      "source": [
        "import pandas as pd\n",
        "import matplotlib.pyplot as plt\n",
        "from windpowerlib import data as wt\n",
        "from windpowerlib import TurbineClusterModelChain,WindTurbine,WindFarm,ModelChain"
      ],
      "metadata": {
        "id": "TtZb_3iO8lHq"
      },
      "execution_count": 16,
      "outputs": []
    },
    {
      "cell_type": "code",
      "source": [
        "Weather_Data = pd.read_csv('weather_montreal.csv',index_col=0,header=[0,1],\n",
        "                           date_parser=lambda idx:pd.to_datetime(idx,utc=True))\n",
        "Weather_Data"
      ],
      "metadata": {
        "colab": {
          "base_uri": "https://localhost:8080/",
          "height": 455
        },
        "id": "MaMS-YiY9I5g",
        "outputId": "acb889a6-ef57-4c86-e1d1-e5c5127d0870"
      },
      "execution_count": 12,
      "outputs": [
        {
          "output_type": "execute_result",
          "data": {
            "text/plain": [
              "variable_name             pressure temperature wind_speed roughness_length temperature wind_speed\n",
              "height                           0           2         10                0          10         50\n",
              "2019-01-01 00:00:00+00:00    99760      273.37       7.11             0.15      273.27       9.85\n",
              "2019-01-01 01:00:00+00:00    99480      273.56       6.87             0.15      273.46      10.08\n",
              "2019-01-01 02:00:00+00:00    99200      273.58       6.21             0.15      273.48       9.27\n",
              "2019-01-01 03:00:00+00:00    98910      273.61       3.66             0.15      273.51       6.51\n",
              "2019-01-01 04:00:00+00:00    98760      273.58       1.26             0.15      273.48       2.28\n",
              "...                            ...         ...        ...              ...         ...        ...\n",
              "2019-12-31 19:00:00+00:00    99430      271.17       2.39             0.15      271.07       3.93\n",
              "2019-12-31 20:00:00+00:00    99400      271.35       2.59             0.15      271.25       4.69\n",
              "2019-12-31 21:00:00+00:00    99370      271.69       3.28             0.15      271.59       6.39\n",
              "2019-12-31 22:00:00+00:00    99330      271.94       4.69             0.15      271.84       7.71\n",
              "2019-12-31 23:00:00+00:00    99290      271.67       4.75             0.15      271.57       7.56\n",
              "\n",
              "[8760 rows x 6 columns]"
            ],
            "text/html": [
              "\n",
              "  <div id=\"df-08b9118f-0092-495d-ada8-b66a12e95dfd\" class=\"colab-df-container\">\n",
              "    <div>\n",
              "<style scoped>\n",
              "    .dataframe tbody tr th:only-of-type {\n",
              "        vertical-align: middle;\n",
              "    }\n",
              "\n",
              "    .dataframe tbody tr th {\n",
              "        vertical-align: top;\n",
              "    }\n",
              "\n",
              "    .dataframe thead tr th {\n",
              "        text-align: left;\n",
              "    }\n",
              "</style>\n",
              "<table border=\"1\" class=\"dataframe\">\n",
              "  <thead>\n",
              "    <tr>\n",
              "      <th>variable_name</th>\n",
              "      <th>pressure</th>\n",
              "      <th>temperature</th>\n",
              "      <th>wind_speed</th>\n",
              "      <th>roughness_length</th>\n",
              "      <th>temperature</th>\n",
              "      <th>wind_speed</th>\n",
              "    </tr>\n",
              "    <tr>\n",
              "      <th>height</th>\n",
              "      <th>0</th>\n",
              "      <th>2</th>\n",
              "      <th>10</th>\n",
              "      <th>0</th>\n",
              "      <th>10</th>\n",
              "      <th>50</th>\n",
              "    </tr>\n",
              "  </thead>\n",
              "  <tbody>\n",
              "    <tr>\n",
              "      <th>2019-01-01 00:00:00+00:00</th>\n",
              "      <td>99760</td>\n",
              "      <td>273.37</td>\n",
              "      <td>7.11</td>\n",
              "      <td>0.15</td>\n",
              "      <td>273.27</td>\n",
              "      <td>9.85</td>\n",
              "    </tr>\n",
              "    <tr>\n",
              "      <th>2019-01-01 01:00:00+00:00</th>\n",
              "      <td>99480</td>\n",
              "      <td>273.56</td>\n",
              "      <td>6.87</td>\n",
              "      <td>0.15</td>\n",
              "      <td>273.46</td>\n",
              "      <td>10.08</td>\n",
              "    </tr>\n",
              "    <tr>\n",
              "      <th>2019-01-01 02:00:00+00:00</th>\n",
              "      <td>99200</td>\n",
              "      <td>273.58</td>\n",
              "      <td>6.21</td>\n",
              "      <td>0.15</td>\n",
              "      <td>273.48</td>\n",
              "      <td>9.27</td>\n",
              "    </tr>\n",
              "    <tr>\n",
              "      <th>2019-01-01 03:00:00+00:00</th>\n",
              "      <td>98910</td>\n",
              "      <td>273.61</td>\n",
              "      <td>3.66</td>\n",
              "      <td>0.15</td>\n",
              "      <td>273.51</td>\n",
              "      <td>6.51</td>\n",
              "    </tr>\n",
              "    <tr>\n",
              "      <th>2019-01-01 04:00:00+00:00</th>\n",
              "      <td>98760</td>\n",
              "      <td>273.58</td>\n",
              "      <td>1.26</td>\n",
              "      <td>0.15</td>\n",
              "      <td>273.48</td>\n",
              "      <td>2.28</td>\n",
              "    </tr>\n",
              "    <tr>\n",
              "      <th>...</th>\n",
              "      <td>...</td>\n",
              "      <td>...</td>\n",
              "      <td>...</td>\n",
              "      <td>...</td>\n",
              "      <td>...</td>\n",
              "      <td>...</td>\n",
              "    </tr>\n",
              "    <tr>\n",
              "      <th>2019-12-31 19:00:00+00:00</th>\n",
              "      <td>99430</td>\n",
              "      <td>271.17</td>\n",
              "      <td>2.39</td>\n",
              "      <td>0.15</td>\n",
              "      <td>271.07</td>\n",
              "      <td>3.93</td>\n",
              "    </tr>\n",
              "    <tr>\n",
              "      <th>2019-12-31 20:00:00+00:00</th>\n",
              "      <td>99400</td>\n",
              "      <td>271.35</td>\n",
              "      <td>2.59</td>\n",
              "      <td>0.15</td>\n",
              "      <td>271.25</td>\n",
              "      <td>4.69</td>\n",
              "    </tr>\n",
              "    <tr>\n",
              "      <th>2019-12-31 21:00:00+00:00</th>\n",
              "      <td>99370</td>\n",
              "      <td>271.69</td>\n",
              "      <td>3.28</td>\n",
              "      <td>0.15</td>\n",
              "      <td>271.59</td>\n",
              "      <td>6.39</td>\n",
              "    </tr>\n",
              "    <tr>\n",
              "      <th>2019-12-31 22:00:00+00:00</th>\n",
              "      <td>99330</td>\n",
              "      <td>271.94</td>\n",
              "      <td>4.69</td>\n",
              "      <td>0.15</td>\n",
              "      <td>271.84</td>\n",
              "      <td>7.71</td>\n",
              "    </tr>\n",
              "    <tr>\n",
              "      <th>2019-12-31 23:00:00+00:00</th>\n",
              "      <td>99290</td>\n",
              "      <td>271.67</td>\n",
              "      <td>4.75</td>\n",
              "      <td>0.15</td>\n",
              "      <td>271.57</td>\n",
              "      <td>7.56</td>\n",
              "    </tr>\n",
              "  </tbody>\n",
              "</table>\n",
              "<p>8760 rows × 6 columns</p>\n",
              "</div>\n",
              "    <div class=\"colab-df-buttons\">\n",
              "\n",
              "  <div class=\"colab-df-container\">\n",
              "    <button class=\"colab-df-convert\" onclick=\"convertToInteractive('df-08b9118f-0092-495d-ada8-b66a12e95dfd')\"\n",
              "            title=\"Convert this dataframe to an interactive table.\"\n",
              "            style=\"display:none;\">\n",
              "\n",
              "  <svg xmlns=\"http://www.w3.org/2000/svg\" height=\"24px\" viewBox=\"0 -960 960 960\">\n",
              "    <path d=\"M120-120v-720h720v720H120Zm60-500h600v-160H180v160Zm220 220h160v-160H400v160Zm0 220h160v-160H400v160ZM180-400h160v-160H180v160Zm440 0h160v-160H620v160ZM180-180h160v-160H180v160Zm440 0h160v-160H620v160Z\"/>\n",
              "  </svg>\n",
              "    </button>\n",
              "\n",
              "  <style>\n",
              "    .colab-df-container {\n",
              "      display:flex;\n",
              "      gap: 12px;\n",
              "    }\n",
              "\n",
              "    .colab-df-convert {\n",
              "      background-color: #E8F0FE;\n",
              "      border: none;\n",
              "      border-radius: 50%;\n",
              "      cursor: pointer;\n",
              "      display: none;\n",
              "      fill: #1967D2;\n",
              "      height: 32px;\n",
              "      padding: 0 0 0 0;\n",
              "      width: 32px;\n",
              "    }\n",
              "\n",
              "    .colab-df-convert:hover {\n",
              "      background-color: #E2EBFA;\n",
              "      box-shadow: 0px 1px 2px rgba(60, 64, 67, 0.3), 0px 1px 3px 1px rgba(60, 64, 67, 0.15);\n",
              "      fill: #174EA6;\n",
              "    }\n",
              "\n",
              "    .colab-df-buttons div {\n",
              "      margin-bottom: 4px;\n",
              "    }\n",
              "\n",
              "    [theme=dark] .colab-df-convert {\n",
              "      background-color: #3B4455;\n",
              "      fill: #D2E3FC;\n",
              "    }\n",
              "\n",
              "    [theme=dark] .colab-df-convert:hover {\n",
              "      background-color: #434B5C;\n",
              "      box-shadow: 0px 1px 3px 1px rgba(0, 0, 0, 0.15);\n",
              "      filter: drop-shadow(0px 1px 2px rgba(0, 0, 0, 0.3));\n",
              "      fill: #FFFFFF;\n",
              "    }\n",
              "  </style>\n",
              "\n",
              "    <script>\n",
              "      const buttonEl =\n",
              "        document.querySelector('#df-08b9118f-0092-495d-ada8-b66a12e95dfd button.colab-df-convert');\n",
              "      buttonEl.style.display =\n",
              "        google.colab.kernel.accessAllowed ? 'block' : 'none';\n",
              "\n",
              "      async function convertToInteractive(key) {\n",
              "        const element = document.querySelector('#df-08b9118f-0092-495d-ada8-b66a12e95dfd');\n",
              "        const dataTable =\n",
              "          await google.colab.kernel.invokeFunction('convertToInteractive',\n",
              "                                                    [key], {});\n",
              "        if (!dataTable) return;\n",
              "\n",
              "        const docLinkHtml = 'Like what you see? Visit the ' +\n",
              "          '<a target=\"_blank\" href=https://colab.research.google.com/notebooks/data_table.ipynb>data table notebook</a>'\n",
              "          + ' to learn more about interactive tables.';\n",
              "        element.innerHTML = '';\n",
              "        dataTable['output_type'] = 'display_data';\n",
              "        await google.colab.output.renderOutput(dataTable, element);\n",
              "        const docLink = document.createElement('div');\n",
              "        docLink.innerHTML = docLinkHtml;\n",
              "        element.appendChild(docLink);\n",
              "      }\n",
              "    </script>\n",
              "  </div>\n",
              "\n",
              "\n",
              "<div id=\"df-48b48ea6-fd32-4298-9170-7368fca0edaa\">\n",
              "  <button class=\"colab-df-quickchart\" onclick=\"quickchart('df-48b48ea6-fd32-4298-9170-7368fca0edaa')\"\n",
              "            title=\"Suggest charts\"\n",
              "            style=\"display:none;\">\n",
              "\n",
              "<svg xmlns=\"http://www.w3.org/2000/svg\" height=\"24px\"viewBox=\"0 0 24 24\"\n",
              "     width=\"24px\">\n",
              "    <g>\n",
              "        <path d=\"M19 3H5c-1.1 0-2 .9-2 2v14c0 1.1.9 2 2 2h14c1.1 0 2-.9 2-2V5c0-1.1-.9-2-2-2zM9 17H7v-7h2v7zm4 0h-2V7h2v10zm4 0h-2v-4h2v4z\"/>\n",
              "    </g>\n",
              "</svg>\n",
              "  </button>\n",
              "\n",
              "<style>\n",
              "  .colab-df-quickchart {\n",
              "      --bg-color: #E8F0FE;\n",
              "      --fill-color: #1967D2;\n",
              "      --hover-bg-color: #E2EBFA;\n",
              "      --hover-fill-color: #174EA6;\n",
              "      --disabled-fill-color: #AAA;\n",
              "      --disabled-bg-color: #DDD;\n",
              "  }\n",
              "\n",
              "  [theme=dark] .colab-df-quickchart {\n",
              "      --bg-color: #3B4455;\n",
              "      --fill-color: #D2E3FC;\n",
              "      --hover-bg-color: #434B5C;\n",
              "      --hover-fill-color: #FFFFFF;\n",
              "      --disabled-bg-color: #3B4455;\n",
              "      --disabled-fill-color: #666;\n",
              "  }\n",
              "\n",
              "  .colab-df-quickchart {\n",
              "    background-color: var(--bg-color);\n",
              "    border: none;\n",
              "    border-radius: 50%;\n",
              "    cursor: pointer;\n",
              "    display: none;\n",
              "    fill: var(--fill-color);\n",
              "    height: 32px;\n",
              "    padding: 0;\n",
              "    width: 32px;\n",
              "  }\n",
              "\n",
              "  .colab-df-quickchart:hover {\n",
              "    background-color: var(--hover-bg-color);\n",
              "    box-shadow: 0 1px 2px rgba(60, 64, 67, 0.3), 0 1px 3px 1px rgba(60, 64, 67, 0.15);\n",
              "    fill: var(--button-hover-fill-color);\n",
              "  }\n",
              "\n",
              "  .colab-df-quickchart-complete:disabled,\n",
              "  .colab-df-quickchart-complete:disabled:hover {\n",
              "    background-color: var(--disabled-bg-color);\n",
              "    fill: var(--disabled-fill-color);\n",
              "    box-shadow: none;\n",
              "  }\n",
              "\n",
              "  .colab-df-spinner {\n",
              "    border: 2px solid var(--fill-color);\n",
              "    border-color: transparent;\n",
              "    border-bottom-color: var(--fill-color);\n",
              "    animation:\n",
              "      spin 1s steps(1) infinite;\n",
              "  }\n",
              "\n",
              "  @keyframes spin {\n",
              "    0% {\n",
              "      border-color: transparent;\n",
              "      border-bottom-color: var(--fill-color);\n",
              "      border-left-color: var(--fill-color);\n",
              "    }\n",
              "    20% {\n",
              "      border-color: transparent;\n",
              "      border-left-color: var(--fill-color);\n",
              "      border-top-color: var(--fill-color);\n",
              "    }\n",
              "    30% {\n",
              "      border-color: transparent;\n",
              "      border-left-color: var(--fill-color);\n",
              "      border-top-color: var(--fill-color);\n",
              "      border-right-color: var(--fill-color);\n",
              "    }\n",
              "    40% {\n",
              "      border-color: transparent;\n",
              "      border-right-color: var(--fill-color);\n",
              "      border-top-color: var(--fill-color);\n",
              "    }\n",
              "    60% {\n",
              "      border-color: transparent;\n",
              "      border-right-color: var(--fill-color);\n",
              "    }\n",
              "    80% {\n",
              "      border-color: transparent;\n",
              "      border-right-color: var(--fill-color);\n",
              "      border-bottom-color: var(--fill-color);\n",
              "    }\n",
              "    90% {\n",
              "      border-color: transparent;\n",
              "      border-bottom-color: var(--fill-color);\n",
              "    }\n",
              "  }\n",
              "</style>\n",
              "\n",
              "  <script>\n",
              "    async function quickchart(key) {\n",
              "      const quickchartButtonEl =\n",
              "        document.querySelector('#' + key + ' button');\n",
              "      quickchartButtonEl.disabled = true;  // To prevent multiple clicks.\n",
              "      quickchartButtonEl.classList.add('colab-df-spinner');\n",
              "      try {\n",
              "        const charts = await google.colab.kernel.invokeFunction(\n",
              "            'suggestCharts', [key], {});\n",
              "      } catch (error) {\n",
              "        console.error('Error during call to suggestCharts:', error);\n",
              "      }\n",
              "      quickchartButtonEl.classList.remove('colab-df-spinner');\n",
              "      quickchartButtonEl.classList.add('colab-df-quickchart-complete');\n",
              "    }\n",
              "    (() => {\n",
              "      let quickchartButtonEl =\n",
              "        document.querySelector('#df-48b48ea6-fd32-4298-9170-7368fca0edaa button');\n",
              "      quickchartButtonEl.style.display =\n",
              "        google.colab.kernel.accessAllowed ? 'block' : 'none';\n",
              "    })();\n",
              "  </script>\n",
              "</div>\n",
              "    </div>\n",
              "  </div>\n"
            ],
            "application/vnd.google.colaboratory.intrinsic+json": {
              "type": "dataframe",
              "variable_name": "Weather_Data",
              "summary": "{\n  \"name\": \"Weather_Data\",\n  \"rows\": 8760,\n  \"fields\": [\n    {\n      \"column\": [\n        \"pressure\",\n        \"0\"\n      ],\n      \"properties\": {\n        \"dtype\": \"number\",\n        \"std\": 888,\n        \"min\": 97380,\n        \"max\": 103550,\n        \"num_unique_values\": 514,\n        \"samples\": [\n          99770,\n          103300,\n          98690\n        ],\n        \"semantic_type\": \"\",\n        \"description\": \"\"\n      }\n    },\n    {\n      \"column\": [\n        \"temperature\",\n        \"2\"\n      ],\n      \"properties\": {\n        \"dtype\": \"number\",\n        \"std\": 13.34040691767986,\n        \"min\": 243.33,\n        \"max\": 305.41,\n        \"num_unique_values\": 4043,\n        \"samples\": [\n          265.65,\n          257.18,\n          278.04\n        ],\n        \"semantic_type\": \"\",\n        \"description\": \"\"\n      }\n    },\n    {\n      \"column\": [\n        \"wind_speed\",\n        \"10\"\n      ],\n      \"properties\": {\n        \"dtype\": \"number\",\n        \"std\": 2.3341184616440342,\n        \"min\": 0.07,\n        \"max\": 18.28,\n        \"num_unique_values\": 1134,\n        \"samples\": [\n          3.39,\n          7.89,\n          2.46\n        ],\n        \"semantic_type\": \"\",\n        \"description\": \"\"\n      }\n    },\n    {\n      \"column\": [\n        \"roughness_length\",\n        \"0\"\n      ],\n      \"properties\": {\n        \"dtype\": \"number\",\n        \"std\": 2.7757159973629785e-17,\n        \"min\": 0.15,\n        \"max\": 0.15,\n        \"num_unique_values\": 1,\n        \"samples\": [\n          0.15\n        ],\n        \"semantic_type\": \"\",\n        \"description\": \"\"\n      }\n    },\n    {\n      \"column\": [\n        \"temperature\",\n        \"10\"\n      ],\n      \"properties\": {\n        \"dtype\": \"number\",\n        \"std\": 13.340406917679859,\n        \"min\": 243.23,\n        \"max\": 305.31,\n        \"num_unique_values\": 4043,\n        \"samples\": [\n          265.55\n        ],\n        \"semantic_type\": \"\",\n        \"description\": \"\"\n      }\n    },\n    {\n      \"column\": [\n        \"wind_speed\",\n        \"50\"\n      ],\n      \"properties\": {\n        \"dtype\": \"number\",\n        \"std\": 3.0010515795165897,\n        \"min\": 0.08,\n        \"max\": 23.17,\n        \"num_unique_values\": 1408,\n        \"samples\": [\n          9.22\n        ],\n        \"semantic_type\": \"\",\n        \"description\": \"\"\n      }\n    }\n  ]\n}"
            }
          },
          "metadata": {},
          "execution_count": 12
        }
      ]
    },
    {
      "cell_type": "code",
      "source": [
        "Selected_turbine = {'turbine_type': 'E48/800', 'hub_height': 60}\n",
        "W_Turbine = WindTurbine(**Selected_turbine)"
      ],
      "metadata": {
        "id": "DLa5CFJ-9tYx"
      },
      "execution_count": 13,
      "outputs": []
    },
    {
      "cell_type": "markdown",
      "source": [
        "**We can use different Model from different manufacturer**"
      ],
      "metadata": {
        "id": "mnv6auCg-LoS"
      }
    },
    {
      "cell_type": "code",
      "source": [
        "# Selected_turbine = {'turbine_type': 'E48/800', 'hub_height': 60}\n",
        "#just change the (Enercon) E48/800 with another model such as V90/2000 (vestas)\n",
        "# W_Turbine = WindTurbine(**Selected_turbine)\n",
        "# wind_turbine_fleet = pd.DataFrame({'wind_turbine':[W_Turbine, None]})\n",
        "\n",
        "# in case want to compare with another model just create new coding like above\n"
      ],
      "metadata": {
        "id": "oxQcsBOF_MBh"
      },
      "execution_count": null,
      "outputs": []
    },
    {
      "cell_type": "markdown",
      "source": [
        "**Use 10 similar Model**"
      ],
      "metadata": {
        "id": "GZdBj0EtIets"
      }
    },
    {
      "cell_type": "code",
      "source": [
        "#wind_turbine_fleet = pd.DataFrame({'wind_turbine':[W_Turbine, None],\n",
        "#(same method but for some models)     'number_of_turbines':{10,None]})\n",
        "                                    #'total_capacity':[8000,None] if you don't have number of Wind Turbine\n",
        "\n",
        "farm_data = {\n",
        "              'wind_turbine_fleet':[W_Turbine.to_group(10)],\n",
        "              'efficiency':0.9\n",
        "\n",
        "}\n",
        "\n",
        "farm_data_2 = WindFarm(**farm_data)\n",
        "\n",
        "Wind_Farm_Submodel =  {\n",
        "                    'wake_losses_model':'wind_farm_efficiency',#'dena_mean' (default)\n",
        "                    'Smoothing':True,                            # default is False\n",
        "                    'standart_deviation_method':'turbulance_intensity', # 2 models, Staffel_Pfenniger and turbulance_intensity\n",
        "                    'wind_speed_model':'hellman', # we can use 3 model, 1. hellman, 2. logarithmic (default), 3. interpolation-extrapolation\n",
        "                    'density_model':'ideal_gas',  #3 model, 1. Barometric (default), 2. ideal_gas, 3.interpolation-extrapolation\n",
        "                    'temperature_model':'linear_gradient', #other model, interpolation-extrapolation\n",
        "                    'power_output_model': 'power_curve', # 'power curve is the default'\n",
        "                    'density_correction': True,   #False (default)\n",
        "                    'obstacle_height': 0,         #default is 0\n",
        "                    'hellman_exp':0.25\n",
        "                       }"
      ],
      "metadata": {
        "id": "HOjGMmVw-XHy"
      },
      "execution_count": 14,
      "outputs": []
    },
    {
      "cell_type": "code",
      "source": [
        "Model_Farm = TurbineClusterModelChain(farm_data_2,**Wind_Farm_Submodel).run_model(Weather_Data)\n",
        "Farm_Power_Output =(Model_Farm.power_output)/1000\n",
        "Farm_Power_Output"
      ],
      "metadata": {
        "colab": {
          "base_uri": "https://localhost:8080/"
        },
        "id": "4fU3_hOhGNgi",
        "outputId": "9971c7b2-e863-47f7-93d4-f7c37df935d6"
      },
      "execution_count": 18,
      "outputs": [
        {
          "output_type": "execute_result",
          "data": {
            "text/plain": [
              "2019-01-01 00:00:00+00:00    5497.986914\n",
              "2019-01-01 01:00:00+00:00    5737.052881\n",
              "2019-01-01 02:00:00+00:00    4743.778341\n",
              "2019-01-01 03:00:00+00:00    1533.553478\n",
              "2019-01-01 04:00:00+00:00      18.108831\n",
              "                                ...     \n",
              "2019-12-31 19:00:00+00:00     276.251707\n",
              "2019-12-31 20:00:00+00:00     529.321915\n",
              "2019-12-31 21:00:00+00:00    1470.480186\n",
              "2019-12-31 22:00:00+00:00    2663.955559\n",
              "2019-12-31 23:00:00+00:00    2483.746946\n",
              "Name: feedin_power_plant, Length: 8760, dtype: float64"
            ]
          },
          "metadata": {},
          "execution_count": 18
        }
      ]
    },
    {
      "cell_type": "markdown",
      "source": [
        "**Visualization**"
      ],
      "metadata": {
        "id": "9Of7mYXzIQ9z"
      }
    },
    {
      "cell_type": "markdown",
      "source": [
        "**Single Wind Turbine Model**"
      ],
      "metadata": {
        "id": "vPdFzwwCI7w8"
      }
    },
    {
      "cell_type": "code",
      "source": [
        "Turbine_Sub_Models = {\n",
        "    'wind_speed_model':'hellman', # we can use 3 model, 1. hellman, 2. logarithmic (default), 3. interpolation-extrapolation\n",
        "    'density_model':'ideal_gas',  #3 model, 1. Barometric (default), 2. ideal_gas, 3.interpolation-extrapolation\n",
        "    'temperature_model':'linear_gradient', #other model, interpolation-extrapolation\n",
        "\n",
        "    'power_output_model': 'power_coefficient_curve', # 'power curve is the default'\n",
        "    'density_correction': True,   #False (default)\n",
        "    'obstacle_height': 0,         #default is 0\n",
        "    'hellman_exp':0.25\n",
        "}\n",
        "\n",
        "Model = ModelChain(W_Turbine,**Turbine_Sub_Models).run_model(Weather_Data) #don;t forget to put ModelChain in import section\n",
        "Turbine_Power_Output = (Model.power_output)/1000 #for kW unit\n",
        "Turbine_Power_Output"
      ],
      "metadata": {
        "colab": {
          "base_uri": "https://localhost:8080/"
        },
        "id": "y4CJCDuiITxW",
        "outputId": "552c8246-722c-476d-8f6a-dfabed3403d6"
      },
      "execution_count": 17,
      "outputs": [
        {
          "output_type": "execute_result",
          "data": {
            "text/plain": [
              "2019-01-01 00:00:00+00:00    607.007263\n",
              "2019-01-01 01:00:00+00:00    632.135315\n",
              "2019-01-01 02:00:00+00:00    518.769474\n",
              "2019-01-01 03:00:00+00:00    167.707041\n",
              "2019-01-01 04:00:00+00:00      1.009322\n",
              "                                ...    \n",
              "2019-12-31 19:00:00+00:00     28.706123\n",
              "2019-12-31 20:00:00+00:00     57.379249\n",
              "2019-12-31 21:00:00+00:00    160.043377\n",
              "2019-12-31 22:00:00+00:00    289.477526\n",
              "2019-12-31 23:00:00+00:00    271.784218\n",
              "Name: feedin_power_plant, Length: 8760, dtype: float64"
            ]
          },
          "metadata": {},
          "execution_count": 17
        }
      ]
    },
    {
      "cell_type": "code",
      "source": [
        "plt.plot(Farm_Power_Output, c = 'b', label = '10 WT')\n",
        "plt.plot(Turbine_Power_Output, c= 'r', label = 'Singl WT')\n",
        "plt.xlabel('Date')\n",
        "plt.ylabel('Power (kW)')\n",
        "plt.title('Single Wind Turbine vs 10 Wind Turbine')\n",
        "plt.legend()\n",
        "plt.show()"
      ],
      "metadata": {
        "colab": {
          "base_uri": "https://localhost:8080/",
          "height": 472
        },
        "id": "6XpgF_HVKfjo",
        "outputId": "7f9f3730-01af-40e6-9d60-f0d471cac9b8"
      },
      "execution_count": 29,
      "outputs": [
        {
          "output_type": "display_data",
          "data": {
            "text/plain": [
              "<Figure size 640x480 with 1 Axes>"
            ],
            "image/png": "[encoded data removed]"
          },
          "metadata": {}
        }
      ]
    }
  ]
}